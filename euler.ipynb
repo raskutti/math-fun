{
  "nbformat": 4,
  "nbformat_minor": 0,
  "metadata": {
    "colab": {
      "name": "euler.ipynb",
      "provenance": [],
      "authorship_tag": "ABX9TyNPsZ6DqLwi18SHAZqGL0//",
      "include_colab_link": true
    },
    "kernelspec": {
      "name": "python3",
      "display_name": "Python 3"
    },
    "language_info": {
      "name": "python"
    }
  },
  "cells": [
    {
      "cell_type": "markdown",
      "metadata": {
        "id": "view-in-github",
        "colab_type": "text"
      },
      "source": [
        "<a href=\"https://colab.research.google.com/github/raskutti/math-fun/blob/main/euler.ipynb\" target=\"_parent\"><img src=\"https://colab.research.google.com/assets/colab-badge.svg\" alt=\"Open In Colab\"/></a>"
      ]
    },
    {
      "cell_type": "markdown",
      "source": [
        "Code for some problems on [Project Euler](https://projecteuler.net/archives)"
      ],
      "metadata": {
        "id": "IG4xDtId8P3G"
      }
    },
    {
      "cell_type": "code",
      "metadata": {
        "id": "DJvDGsreuikA"
      },
      "source": [
        "def is_palindrome(n):\n",
        "  return str(n) == str(n)[::-1]"
      ],
      "execution_count": null,
      "outputs": []
    },
    {
      "cell_type": "code",
      "metadata": {
        "colab": {
          "base_uri": "https://localhost:8080/"
        },
        "id": "SYbkz3HXxCGJ",
        "outputId": "25d2cf92-fe80-43f3-e89f-0602a4a948f7"
      },
      "source": [
        "is_palindrome(998899)"
      ],
      "execution_count": null,
      "outputs": [
        {
          "output_type": "execute_result",
          "data": {
            "text/plain": [
              "True"
            ]
          },
          "metadata": {
            "tags": []
          },
          "execution_count": 11
        }
      ]
    },
    {
      "cell_type": "code",
      "metadata": {
        "colab": {
          "base_uri": "https://localhost:8080/"
        },
        "id": "ElMqqn17u0ns",
        "outputId": "49b7671f-da9f-4290-abec-2d82aaae2bc6"
      },
      "source": [
        "largest = 0\n",
        "for i in range(100, 1000):\n",
        "  for j in range(900, 1000):\n",
        "    n = i * j\n",
        "    if is_palindrome(n):\n",
        "      largest = n\n",
        "\n",
        "print(largest)"
      ],
      "execution_count": null,
      "outputs": [
        {
          "output_type": "stream",
          "text": [
            "906609\n"
          ],
          "name": "stdout"
        }
      ]
    },
    {
      "cell_type": "code",
      "metadata": {
        "id": "eet0pXYoycd4"
      },
      "source": [
        "def n_divisors(n):\n",
        "  # n is always a factor of itself, so start with 1.\n",
        "  output = 1\n",
        "  for i in range(1, n // 2 + 1):\n",
        "    if n % i == 0:\n",
        "      output += 1\n",
        "  return output"
      ],
      "execution_count": null,
      "outputs": []
    },
    {
      "cell_type": "code",
      "metadata": {
        "id": "Vs4QQY8Gza6z"
      },
      "source": [
        "def first_triangle_number_over_n_divisors(n):\n",
        "  triangle = 0\n",
        "  increment = 1\n",
        "  while True:\n",
        "    triangle += increment\n",
        "    increment += 1\n",
        "    if n_divisors(triangle) > n:\n",
        "      return triangle"
      ],
      "execution_count": null,
      "outputs": []
    },
    {
      "cell_type": "code",
      "metadata": {
        "id": "1XBeEzuS0M09",
        "colab": {
          "base_uri": "https://localhost:8080/",
          "height": 307
        },
        "outputId": "f9a43d85-76e9-454b-978d-2a3fb8aecffb"
      },
      "source": [
        "first_triangle_number_over_n_divisors(500)"
      ],
      "execution_count": null,
      "outputs": [
        {
          "output_type": "error",
          "ename": "KeyboardInterrupt",
          "evalue": "ignored",
          "traceback": [
            "\u001b[0;31m---------------------------------------------------------------------------\u001b[0m",
            "\u001b[0;31mKeyboardInterrupt\u001b[0m                         Traceback (most recent call last)",
            "\u001b[0;32m<ipython-input-47-50989ab8fe55>\u001b[0m in \u001b[0;36m<module>\u001b[0;34m()\u001b[0m\n\u001b[0;32m----> 1\u001b[0;31m \u001b[0mfirst_triangle_number_over_n_divisors\u001b[0m\u001b[0;34m(\u001b[0m\u001b[0;36m500\u001b[0m\u001b[0;34m)\u001b[0m\u001b[0;34m\u001b[0m\u001b[0;34m\u001b[0m\u001b[0m\n\u001b[0m",
            "\u001b[0;32m<ipython-input-45-af22a49c9ead>\u001b[0m in \u001b[0;36mfirst_triangle_number_over_n_divisors\u001b[0;34m(n)\u001b[0m\n\u001b[1;32m      5\u001b[0m     \u001b[0mtriangle\u001b[0m \u001b[0;34m+=\u001b[0m \u001b[0mincrement\u001b[0m\u001b[0;34m\u001b[0m\u001b[0;34m\u001b[0m\u001b[0m\n\u001b[1;32m      6\u001b[0m     \u001b[0mincrement\u001b[0m \u001b[0;34m+=\u001b[0m \u001b[0;36m1\u001b[0m\u001b[0;34m\u001b[0m\u001b[0;34m\u001b[0m\u001b[0m\n\u001b[0;32m----> 7\u001b[0;31m     \u001b[0;32mif\u001b[0m \u001b[0mn_divisors\u001b[0m\u001b[0;34m(\u001b[0m\u001b[0mtriangle\u001b[0m\u001b[0;34m)\u001b[0m \u001b[0;34m>\u001b[0m \u001b[0mn\u001b[0m\u001b[0;34m:\u001b[0m\u001b[0;34m\u001b[0m\u001b[0;34m\u001b[0m\u001b[0m\n\u001b[0m\u001b[1;32m      8\u001b[0m       \u001b[0;32mreturn\u001b[0m \u001b[0mtriangle\u001b[0m\u001b[0;34m\u001b[0m\u001b[0;34m\u001b[0m\u001b[0m\n",
            "\u001b[0;32m<ipython-input-44-8578147c1bd5>\u001b[0m in \u001b[0;36mn_divisors\u001b[0;34m(n)\u001b[0m\n\u001b[1;32m      3\u001b[0m   \u001b[0moutput\u001b[0m \u001b[0;34m=\u001b[0m \u001b[0;36m1\u001b[0m\u001b[0;34m\u001b[0m\u001b[0;34m\u001b[0m\u001b[0m\n\u001b[1;32m      4\u001b[0m   \u001b[0;32mfor\u001b[0m \u001b[0mi\u001b[0m \u001b[0;32min\u001b[0m \u001b[0mrange\u001b[0m\u001b[0;34m(\u001b[0m\u001b[0;36m1\u001b[0m\u001b[0;34m,\u001b[0m \u001b[0mn\u001b[0m \u001b[0;34m//\u001b[0m \u001b[0;36m2\u001b[0m \u001b[0;34m+\u001b[0m \u001b[0;36m1\u001b[0m\u001b[0;34m)\u001b[0m\u001b[0;34m:\u001b[0m\u001b[0;34m\u001b[0m\u001b[0;34m\u001b[0m\u001b[0m\n\u001b[0;32m----> 5\u001b[0;31m     \u001b[0;32mif\u001b[0m \u001b[0mn\u001b[0m \u001b[0;34m%\u001b[0m \u001b[0mi\u001b[0m \u001b[0;34m==\u001b[0m \u001b[0;36m0\u001b[0m\u001b[0;34m:\u001b[0m\u001b[0;34m\u001b[0m\u001b[0;34m\u001b[0m\u001b[0m\n\u001b[0m\u001b[1;32m      6\u001b[0m       \u001b[0moutput\u001b[0m \u001b[0;34m+=\u001b[0m \u001b[0;36m1\u001b[0m\u001b[0;34m\u001b[0m\u001b[0;34m\u001b[0m\u001b[0m\n\u001b[1;32m      7\u001b[0m   \u001b[0;32mreturn\u001b[0m \u001b[0moutput\u001b[0m\u001b[0;34m\u001b[0m\u001b[0;34m\u001b[0m\u001b[0m\n",
            "\u001b[0;31mKeyboardInterrupt\u001b[0m: "
          ]
        }
      ]
    },
    {
      "cell_type": "code",
      "metadata": {
        "id": "WW0YjDe5DHen"
      },
      "source": [
        "def mod_10_10(n):\n",
        "  return n % (10**10)"
      ],
      "execution_count": null,
      "outputs": []
    },
    {
      "cell_type": "code",
      "metadata": {
        "colab": {
          "base_uri": "https://localhost:8080/"
        },
        "id": "pN0wQ5b2DSw3",
        "outputId": "3638fe15-9b94-4bb9-b26e-b5da5f5a65c2"
      },
      "source": [
        "sum = 0\n",
        "for i in range(1, 1001):\n",
        "  sum += i**i\n",
        "\n",
        "print(mod_10_10(sum))"
      ],
      "execution_count": null,
      "outputs": [
        {
          "output_type": "stream",
          "text": [
            "9110846700\n"
          ],
          "name": "stdout"
        }
      ]
    },
    {
      "cell_type": "code",
      "metadata": {
        "colab": {
          "base_uri": "https://localhost:8080/"
        },
        "id": "suQRdf93EldZ",
        "outputId": "966ec79b-f8a5-45aa-a044-c842b24cab13"
      },
      "source": [
        "def is_prime(n):\n",
        "  for i in range(2, n // 2 + 1):\n",
        "    if n % i == 0:\n",
        "      return False\n",
        "  return True"
      ],
      "execution_count": null,
      "outputs": [
        {
          "output_type": "execute_result",
          "data": {
            "text/plain": [
              "False"
            ]
          },
          "metadata": {
            "tags": []
          },
          "execution_count": 56
        }
      ]
    },
    {
      "cell_type": "code",
      "metadata": {
        "colab": {
          "base_uri": "https://localhost:8080/"
        },
        "id": "GGDc9JEAFe7_",
        "outputId": "ccc9a3a4-8499-4cb7-c885-7f2a3754adfa"
      },
      "source": [
        "def sum_consecutive_primes(n):\n",
        "  i = 2\n",
        "  c = 0\n",
        "  sum = 0\n",
        "  while c < n:\n",
        "    if is_prime(i):\n",
        "      sum += i\n",
        "      c += 1\n",
        "    i += 1\n",
        "  return sum"
      ],
      "execution_count": null,
      "outputs": [
        {
          "output_type": "execute_result",
          "data": {
            "text/plain": [
              "28"
            ]
          },
          "metadata": {
            "tags": []
          },
          "execution_count": 61
        }
      ]
    },
    {
      "cell_type": "code",
      "metadata": {
        "colab": {
          "base_uri": "https://localhost:8080/"
        },
        "id": "iTTQeDO9GKys",
        "outputId": "c737cb9b-a69c-4880-8ea2-7431cad828a7"
      },
      "source": [
        "sum = 0\n",
        "n = 1\n",
        "largest = 0\n",
        "\n",
        "while sum < 1000:\n",
        "  sum = sum_consecutive_primes(n)\n",
        "  print(sum)\n",
        "  if is_prime(sum):\n",
        "    largest = sum\n",
        "  n += 1\n",
        "\n",
        "largest"
      ],
      "execution_count": null,
      "outputs": [
        {
          "output_type": "stream",
          "text": [
            "2\n",
            "5\n",
            "10\n",
            "17\n",
            "28\n",
            "41\n",
            "58\n",
            "77\n",
            "100\n",
            "129\n",
            "160\n",
            "197\n",
            "238\n",
            "281\n",
            "328\n",
            "381\n",
            "440\n",
            "501\n",
            "568\n",
            "639\n",
            "712\n",
            "791\n",
            "874\n",
            "963\n",
            "1060\n"
          ],
          "name": "stdout"
        },
        {
          "output_type": "execute_result",
          "data": {
            "text/plain": [
              "281"
            ]
          },
          "metadata": {
            "tags": []
          },
          "execution_count": 69
        }
      ]
    },
    {
      "cell_type": "code",
      "metadata": {
        "colab": {
          "base_uri": "https://localhost:8080/"
        },
        "id": "xEUtVGY5G_ps",
        "outputId": "377d3449-f723-4d6e-a7c9-437bffad46d3"
      },
      "source": [
        "sum_consecutive_primes(547)"
      ],
      "execution_count": null,
      "outputs": [
        {
          "output_type": "execute_result",
          "data": {
            "text/plain": [
              "1001604"
            ]
          },
          "metadata": {
            "tags": []
          },
          "execution_count": 67
        }
      ]
    },
    {
      "cell_type": "code",
      "metadata": {
        "id": "PKb5QRWtuiSL"
      },
      "source": [
        "def next_collatz(n):\n",
        "  if n % 2 == 0:\n",
        "    return n / 2\n",
        "  else:\n",
        "    return 3 * n + 1"
      ],
      "execution_count": null,
      "outputs": []
    },
    {
      "cell_type": "code",
      "metadata": {
        "id": "5ZmYe38euw25"
      },
      "source": [
        "def len_collatz_sequence(n):\n",
        "  a = n\n",
        "  counter = 1\n",
        "  while a != 1:\n",
        "    a = next_collatz(a)\n",
        "    counter += 1\n",
        "  return counter"
      ],
      "execution_count": null,
      "outputs": []
    },
    {
      "cell_type": "code",
      "metadata": {
        "colab": {
          "base_uri": "https://localhost:8080/"
        },
        "id": "FCiFdKDCvImi",
        "outputId": "ca611736-2f32-4f65-fb8c-86e5231bc02f"
      },
      "source": [
        "max_len_collatz = 0\n",
        "max_collatz = 0\n",
        "for i in range(2, 1000000):\n",
        "  m = len_collatz_sequence(i)\n",
        "  if m > max_len_collatz:\n",
        "    max_len_collatz = m\n",
        "    max_collatz = i\n",
        "\n",
        "max_len_collatz"
      ],
      "execution_count": null,
      "outputs": [
        {
          "output_type": "execute_result",
          "data": {
            "text/plain": [
              "525"
            ]
          },
          "metadata": {
            "tags": []
          },
          "execution_count": 14
        }
      ]
    },
    {
      "cell_type": "code",
      "metadata": {
        "colab": {
          "base_uri": "https://localhost:8080/"
        },
        "id": "E-9MQ7hKwhyr",
        "outputId": "f60d6291-20c7-4a6d-84bd-617e56705dc1"
      },
      "source": [
        "max_collatz"
      ],
      "execution_count": null,
      "outputs": [
        {
          "output_type": "execute_result",
          "data": {
            "text/plain": [
              "837799"
            ]
          },
          "metadata": {
            "tags": []
          },
          "execution_count": 15
        }
      ]
    },
    {
      "cell_type": "code",
      "metadata": {
        "colab": {
          "base_uri": "https://localhost:8080/"
        },
        "id": "mV08tIcBxtO6",
        "outputId": "03df285f-00b5-473e-af2e-61231494f0d7"
      },
      "source": [
        "output = 0\n",
        "for i in str(2**1000):\n",
        "  output += int(i)\n",
        "\n",
        "output"
      ],
      "execution_count": null,
      "outputs": [
        {
          "output_type": "execute_result",
          "data": {
            "text/plain": [
              "1366"
            ]
          },
          "metadata": {
            "tags": []
          },
          "execution_count": 17
        }
      ]
    },
    {
      "cell_type": "code",
      "metadata": {
        "id": "_qKLO-3QynJr"
      },
      "source": [
        "def n_divisors(n):\n",
        "  # 1 and n are always divisors.\n",
        "  output = 2\n",
        "  for i in range(2, n // 2 + 1):\n",
        "    if n % i == 0:\n",
        "      output += 1\n",
        "  return output"
      ],
      "execution_count": null,
      "outputs": []
    },
    {
      "cell_type": "code",
      "metadata": {
        "colab": {
          "base_uri": "https://localhost:8080/"
        },
        "id": "Gy71vWQEzHbO",
        "outputId": "53633d94-2b92-488c-b1eb-87323a4344b9"
      },
      "source": [
        "incrementer = 1\n",
        "triangle = 0\n",
        "answer = 0\n",
        "\n",
        "while answer <= 100:\n",
        "  triangle += incrementer\n",
        "  incrementer += 1\n",
        "  answer = n_divisors(triangle)\n",
        "\n",
        "triangle"
      ],
      "execution_count": null,
      "outputs": [
        {
          "output_type": "execute_result",
          "data": {
            "text/plain": [
              "73920"
            ]
          },
          "metadata": {
            "tags": []
          },
          "execution_count": 30
        }
      ]
    },
    {
      "cell_type": "code",
      "metadata": {
        "colab": {
          "base_uri": "https://localhost:8080/"
        },
        "id": "kDtvj1wjWAS2",
        "outputId": "596c3013-7859-4bfd-9379-5211dd01f116"
      },
      "source": [
        "import math\n",
        "\n",
        "output = 0\n",
        "for i in str(math.factorial(100)):\n",
        "  output += int(i)\n",
        "\n",
        "output"
      ],
      "execution_count": null,
      "outputs": [
        {
          "output_type": "execute_result",
          "data": {
            "text/plain": [
              "648"
            ]
          },
          "metadata": {
            "tags": []
          },
          "execution_count": 33
        }
      ]
    }
  ]
}