{
  "nbformat": 4,
  "nbformat_minor": 0,
  "metadata": {
    "colab": {
      "name": "numbers.ipynb",
      "private_outputs": true,
      "provenance": [],
      "collapsed_sections": [],
      "include_colab_link": true
    },
    "kernelspec": {
      "name": "python3",
      "display_name": "Python 3"
    }
  },
  "cells": [
    {
      "cell_type": "markdown",
      "metadata": {
        "id": "view-in-github",
        "colab_type": "text"
      },
      "source": [
        "<a href=\"https://colab.research.google.com/github/raskutti/math-fun/blob/main/numbers.ipynb\" target=\"_parent\"><img src=\"https://colab.research.google.com/assets/colab-badge.svg\" alt=\"Open In Colab\"/></a>"
      ]
    },
    {
      "cell_type": "markdown",
      "source": [
        "# Solving \"Numbers\"\n",
        "\n",
        "This colab solves an easier version of the game from [Letters and Numbers](https://en.wikipedia.org/wiki/Letters_and_Numbers) (essentially the same as [Countdown](https://en.wikipedia.org/wiki/Countdown_(game_show))."
      ],
      "metadata": {
        "id": "dwHoixZWgyrx"
      }
    },
    {
      "cell_type": "code",
      "metadata": {
        "id": "6SHzEU_GYdwT"
      },
      "source": [
        "import numpy as np\n",
        "\n",
        "def _is_positive_integer(n):\n",
        "  return n > 0 and isinstance(n, int)"
      ],
      "execution_count": null,
      "outputs": []
    },
    {
      "cell_type": "markdown",
      "metadata": {
        "id": "hH1ByHylP92f"
      },
      "source": [
        "# Brute force approach"
      ]
    },
    {
      "cell_type": "markdown",
      "metadata": {
        "id": "qYWW8ksa_Wkd"
      },
      "source": [
        "For a given $m \\in \\mathbb{N}$ and $n_0, ..., n_{N-1} \\in \\mathbb{N}$, find a set of elements and mathematical operators (addition, subtraction, multiplication, division) that yields $m$.\n",
        "\n",
        "- Elements from $\\{n_0, ..., n_{N-1}\\}$ can be used in any order **without replacement**\n",
        "- Mathematical operators from $\\{+, -, *, /\\}$ can be used in order **with replacement**"
      ]
    },
    {
      "cell_type": "code",
      "metadata": {
        "id": "-0-yaCq1QTRA"
      },
      "source": [
        "import operator\n",
        "import itertools\n",
        "\n",
        "# +, -, *, /\n",
        "all_operations = [operator.add, operator.sub, operator.mul, operator.floordiv]"
      ],
      "execution_count": null,
      "outputs": []
    },
    {
      "cell_type": "code",
      "metadata": {
        "id": "SdaEuRSjQC_t"
      },
      "source": [
        "def all_permutations(arr):\n",
        "  # O(sum_1^n i!)\n",
        "  \"\"\"A generator for permutations of a list, in increasing length.\n",
        "\n",
        "  The permutations are of any non-zero length, and order matters.\"\"\"\n",
        "\n",
        "  for n in range(1, len(arr) + 1):\n",
        "    for c in itertools.combinations(arr, n):\n",
        "      for p in itertools.permutations(c):\n",
        "        yield p"
      ],
      "execution_count": null,
      "outputs": []
    },
    {
      "cell_type": "code",
      "metadata": {
        "id": "-Oaxr6-XRjIJ"
      },
      "source": [
        "def check_permutation(elements, operations, answer):\n",
        "  # O(n)\n",
        "  \"\"\"Checks if a permutation of elements and operations returns the answer.\"\"\"\n",
        "  n = len(elements) - 1\n",
        "  guess = elements[0]\n",
        "\n",
        "  for i in range(n):\n",
        "    el, op = elements[i+1], operations[i]\n",
        "\n",
        "    # If a solution could use a negative integer (e.g. 5 = 2 - 3 + 6) then it\n",
        "    # can be accomplished without the negative integer using a different order\n",
        "    # (namely 5 = 6 + 2 - 3).\n",
        "    if guess - el <= 0 and op == operator.sub:\n",
        "      return False\n",
        "    # If a solution could use a fraction (e.g. 6 = 3 / 4 * 8) then it can be\n",
        "    # accomplished without using the fraction (namely 6 = 8 * 4 / 3).\n",
        "    if guess % el != 0 and op == operator.floordiv:\n",
        "      return False\n",
        "    # A solution should not require multiplication or division by 1, as it can\n",
        "    # be accomplished without that operation.\n",
        "    if el == 1 and (op == operator.mul or operator.floordiv):\n",
        "      return False\n",
        "    \n",
        "    guess = operations[i](guess, elements[i+1])\n",
        "    if guess == answer:\n",
        "      return True\n",
        "  \n",
        "  return False"
      ],
      "execution_count": null,
      "outputs": []
    },
    {
      "cell_type": "code",
      "metadata": {
        "id": "QBhYvKMMKOQ3"
      },
      "source": [
        "def numbers(arr, m):\n",
        "  \"\"\"Solves the numbers question in Letters & Numbers.\n",
        "\n",
        "  Uses any integers in arr (without repetition) and the four basic arithmetic\n",
        "  operators (+, -, *, /) to arrive at the integer m.\n",
        "\n",
        "  Args:\n",
        "    arr: An array of positive integers, the numbers to work with.\n",
        "    m: A positive integer, the target of the problem.\n",
        "  \n",
        "  Returns:\n",
        "    Two lists, the integers and the operations that when combined in order (not\n",
        "    using BODMAS) return m. Returns empty lists if no solutions found.\n",
        "  \"\"\"\n",
        "\n",
        "  # Check that inputs are valid.\n",
        "  if not _is_positive_integer(m):\n",
        "    raise ValueError('Input m must be a positive integer.')\n",
        "\n",
        "  if any(not _is_positive_integer(n) for n in arr):\n",
        "    raise ValueError('All values in input arr must be positive integers.')\n",
        "\n",
        "  for permutation_generator in all_permutations(arr):\n",
        "    permutation = list(permutation_generator)\n",
        "\n",
        "    if len(permutation) == 1 and permutation[0] == m:\n",
        "      return permutation, []\n",
        "\n",
        "    for operation in itertools.permutations(\n",
        "        all_operations, len(permutation) - 1):\n",
        "      if check_permutation(permutation, list(operation), m):\n",
        "        return permutation, list(operation)\n",
        "  \n",
        "  return [], []"
      ],
      "execution_count": null,
      "outputs": []
    },
    {
      "cell_type": "code",
      "metadata": {
        "id": "urkmbmViU4OF"
      },
      "source": [
        "numbers([2, 4, 6, 10, 25, 50], 170)"
      ],
      "execution_count": null,
      "outputs": []
    },
    {
      "cell_type": "markdown",
      "metadata": {
        "id": "DOCoGUzxAJ22"
      },
      "source": [
        "# Solving the Letters & Numbers game"
      ]
    },
    {
      "cell_type": "markdown",
      "metadata": {
        "id": "TwPzhL29AV-v"
      },
      "source": [
        "The actual Letters and Numbers game is more specific. \n",
        "\n",
        "- A contestant chooses how many \"small\" numbers $N_S$ and how many \"large\" numbers $N_L$\n",
        "- The small numbers are chosen from 1-10 inclusive **with replacement**\n",
        "- The large numbers are chosen from 25, 50, 75, 100 **without replacement**\n",
        "\n",
        "Are there any optimizations that can be made given these restrictions?"
      ]
    },
    {
      "cell_type": "markdown",
      "metadata": {
        "id": "l2v0aPyQXGB5"
      },
      "source": [
        "# Appendix: Recursive attempt"
      ]
    },
    {
      "cell_type": "code",
      "metadata": {
        "id": "x6-a0iqgGbLi"
      },
      "source": [
        "def inner(arr, m, output_elements = [], output_operations = []):\n",
        "  print(arr, m)\n",
        "  # global output_elements, output_operations\n",
        "  print(output_elements, output_operations)\n",
        "\n",
        "  # If the product of all elements of arr exceeds m, no solution exists.\n",
        "  p = np.prod(arr)\n",
        "  if m > p:\n",
        "    return [], []\n",
        "  # Since np.prod(arr) is already calculated, may as well use it to test if the\n",
        "  # product is equal to m.\n",
        "  if m == p:\n",
        "    return arr, ['*'] * (len(arr) - 1)\n",
        "\n",
        "  # Base cases\n",
        "  for n in arr:\n",
        "    if n == m:\n",
        "      return output_elements + [n], output_operations\n",
        "  if len(arr) < 2:\n",
        "    return [], []\n",
        "  \n",
        "  for i in range(len(arr)):\n",
        "    n = arr[i]\n",
        "    arr_minus_n = arr[:i] + arr[(i+1):]\n",
        "    # Assume the last element of the expression is n.\n",
        "\n",
        "    # Multiplication\n",
        "    # Ignore the case where n == 1 since this is an identity operation.\n",
        "    if n > 1 and m % n == 0:\n",
        "      print('*')\n",
        "      print(n)\n",
        "      return inner(\n",
        "          arr_minus_n, m // n, output_elements + [n], output_operations + ['*'])\n",
        "    \n",
        "    # Addition\n",
        "    # Ignore the case where m - n <= 0 since this will raise an error in the\n",
        "    # recursion. If a solution could use a negative integer (e.g. 5 = 2 - 3 + 6)\n",
        "    # then it can be accomplished without the negative integer using a different\n",
        "    # order (namely 5 = 6 + 2 - 3).\n",
        "    if m - n > 0:\n",
        "      print('+')\n",
        "      print(n)\n",
        "      return inner(\n",
        "          arr_minus_n, m - n, output_elements + [n], output_operations + ['+'])\n",
        "    \n",
        "    # # Division\n",
        "    # print('/')\n",
        "    # print(n)\n",
        "    # return inner(\n",
        "    #     arr_minus_n, m * n, output_elements + [n], output_operations + ['/']\n",
        "    # )\n",
        "\n",
        "    # # Subtraction\n",
        "    # print('/')\n",
        "    # print(n)\n",
        "    # return inner(\n",
        "    #     arr_minus_n, m + n, output_elements + [n], output_operations + ['-']\n",
        "    # )"
      ],
      "execution_count": null,
      "outputs": []
    },
    {
      "cell_type": "code",
      "metadata": {
        "id": "US0BYoI0x8Tu"
      },
      "source": [
        "print(inner([5, 2], 3))"
      ],
      "execution_count": null,
      "outputs": []
    },
    {
      "cell_type": "code",
      "metadata": {
        "id": "HYJk7EVzxoKP"
      },
      "source": [
        "def numbers(arr, m):\n",
        "  \"\"\"Solves the numbers question in Letters & Numbers.\n",
        "\n",
        "  Uses any integers in arr (without repetition) and the four basic arithmetic\n",
        "  operators (+, -, *, /) to arrive at the integer m.\n",
        "\n",
        "  Args:\n",
        "    arr: An array of positive integers.\n",
        "    m: A positive integer.\n",
        "    output_elements: Keeps track of the elements in the final arithmetic\n",
        "      expression. Not to be entered manually.\n",
        "    output_operations: Keeps track of the operations in the final arithmetic\n",
        "      expression. Not to be entered manually.\n",
        "  \n",
        "  Returns:\n",
        "    Something cool.\n",
        "  \"\"\"\n",
        "\n",
        "  # Check that inputs are valid.\n",
        "  if not _is_positive_integer(m):\n",
        "    raise ValueError('Input m must be a positive integer.')\n",
        "\n",
        "  if any(not _is_positive_integer(n) for n in arr):\n",
        "    raise ValueError('All values in input arr must be positive integers.')\n",
        "\n",
        "  output_elements, output_operations = [], []\n",
        "\n",
        "  solution_found = inner(arr, m)\n",
        "  if solution_found:\n",
        "    return output_elements, output_operations\n",
        "  # else:\n",
        "  #   return numbers(arr[1:] + arr[0], m)"
      ],
      "execution_count": null,
      "outputs": []
    },
    {
      "cell_type": "code",
      "metadata": {
        "id": "X53hSkAhJ-JE"
      },
      "source": [
        "print(numbers([2, 3], 5))"
      ],
      "execution_count": null,
      "outputs": []
    }
  ]
}